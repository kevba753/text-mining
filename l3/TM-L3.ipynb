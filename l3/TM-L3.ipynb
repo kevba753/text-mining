{
 "cells": [
  {
   "cell_type": "markdown",
   "metadata": {
    "id": "danSeYj8dXuN"
   },
   "source": [
    "# L3: Text clustering and topic modelling"
   ]
  },
  {
   "cell_type": "markdown",
   "metadata": {
    "id": "pinPJuI9dXuO"
   },
   "source": [
    "Text clustering groups documents in such a way that documents within a group are more &lsquo;similar&rsquo; to other documents in the cluster than to documents not in the cluster. The exact definition of what &lsquo;similar&rsquo; means in this context varies across applications and clustering algorithms.\n",
    "\n",
    "In this lab you will experiment with both hard and soft clustering techniques. More specifically, in the first part you will be using the $k$-means algorithm, and in the second part you will be using a topic model based on the Latent Dirichlet Allocation (LDA)."
   ]
  },
  {
   "cell_type": "markdown",
   "metadata": {
    "id": "3kzgMoNodXuP"
   },
   "source": [
    "**A quick reminder about our [Rules for hand-in assignments](https://www.ida.liu.se/~TDDE16/exam.en.shtml#handins) and the [Policy on cheating and plagiarism](https://www.ida.liu.se/~TDDE16/exam.en.shtml#cheating)**"
   ]
  },
  {
   "cell_type": "markdown",
   "metadata": {
    "id": "Da7j8UrxdXuP"
   },
   "source": [
    "## Hard clustering data set"
   ]
  },
  {
   "cell_type": "markdown",
   "metadata": {
    "id": "s6dUMxqxdXuQ"
   },
   "source": [
    "The raw data for the hard clustering part of this lab is a collection of product reviews. We have preprocessed the data by tokenization and lowercasing."
   ]
  },
  {
   "cell_type": "code",
   "execution_count": 1,
   "metadata": {
    "id": "47FmAra8dXuQ"
   },
   "outputs": [],
   "source": [
    "import pandas as pd\n",
    "import bz2\n",
    "\n",
    "with bz2.open('reviews.json.bz2') as source:\n",
    "    df = pd.read_json(source)"
   ]
  },
  {
   "cell_type": "markdown",
   "metadata": {
    "id": "qtwzZ8D8dXuQ"
   },
   "source": [
    "When you inspect the data frame, you can see that there are three labelled columns: `category` (the product category), `sentiment` (whether the product review was classified as &lsquo;positive&rsquo; or &lsquo;negative&rsquo; towards the product), and `text` (the space-separated text of the review)."
   ]
  },
  {
   "cell_type": "code",
   "execution_count": 72,
   "metadata": {
    "colab": {
     "base_uri": "https://localhost:8080/"
    },
    "id": "O7v0qMaBdXuR",
    "outputId": "6d705ddd-b8bd-41c6-e9f0-855bb10cfc5c"
   },
   "outputs": [
    {
     "data": {
      "text/plain": [
       "['books', 'camera', 'dvd', 'health', 'music', 'software']"
      ]
     },
     "execution_count": 72,
     "metadata": {},
     "output_type": "execute_result"
    }
   ],
   "source": [
    "df.head()\n",
    "#sorted(df['category'].unique())"
   ]
  },
  {
   "cell_type": "markdown",
   "metadata": {
    "id": "za0jhgkYdXuR"
   },
   "source": [
    "## Problem 1: K-means clustering"
   ]
  },
  {
   "cell_type": "markdown",
   "metadata": {
    "id": "O8FQD17idXuS"
   },
   "source": [
    "Your first task is to cluster the product review data using a tf–idf vectorizer and a $k$-means clusterer."
   ]
  },
  {
   "cell_type": "markdown",
   "metadata": {
    "id": "XMn-AwxzdXuS"
   },
   "source": [
    "Start by doing the vectorization. In connection with vectorization, you should also filter out standard English stop words. While you could use [spaCy](https://spacy.io/) for this task, here it suffices to use the word list implemented in [TfidfVectorizer](https://scikit-learn.org/stable/modules/generated/sklearn.feature_extraction.text.TfidfVectorizer.html)."
   ]
  },
  {
   "cell_type": "code",
   "execution_count": 4,
   "metadata": {
    "id": "AGVzvSkIdXuS"
   },
   "outputs": [],
   "source": [
    "from sklearn.feature_extraction.text import TfidfVectorizer\n",
    "\n",
    "vectorizer = TfidfVectorizer(stop_words='english')\n",
    "reviews = vectorizer.fit_transform(df['text'])"
   ]
  },
  {
   "cell_type": "markdown",
   "metadata": {
    "id": "fYXo0_tKdXuT"
   },
   "source": [
    "Test your vectorization by running the following code cell:"
   ]
  },
  {
   "cell_type": "code",
   "execution_count": 5,
   "metadata": {
    "colab": {
     "base_uri": "https://localhost:8080/"
    },
    "id": "1ei4td9hdXuT",
    "outputId": "de4f8674-ea86-42ed-f09b-3496ab8e59e8"
   },
   "outputs": [
    {
     "data": {
      "text/plain": [
       "(11914, 46619)"
      ]
     },
     "execution_count": 5,
     "metadata": {},
     "output_type": "execute_result"
    }
   ],
   "source": [
    "reviews.shape"
   ]
  },
  {
   "cell_type": "markdown",
   "metadata": {
    "id": "c227hFPtdXuT"
   },
   "source": [
    "If you used the English stop word list from scikit-learn, then the resulting vocabulary should have 46,619 entries."
   ]
  },
  {
   "cell_type": "markdown",
   "metadata": {
    "id": "wBWRF0EOdXuT"
   },
   "source": [
    "Next, cluster the vectorized data. Before doing so, you should read the documentation of the [KMeans](https://scikit-learn.org/stable/modules/generated/sklearn.cluster.KMeans.html) class, which is scikit-learn&rsquo;s implementation of the $k$-means algorithm. As you can see, this class has several parameters that you can tweak. For now, the only parameter that you will have to set is the number of clusters. Start with $k=3$.\n",
    "\n",
    "**Tip:** Training $k$-means models will take some time. To speed things up, you can use the `n_init` parameter to control the number of times that the clustering is re-computed with different initial values. The default value for this parameter is 10; here and in the rest of this lab, you may want to set this to a lower value."
   ]
  },
  {
   "cell_type": "code",
   "execution_count": 49,
   "metadata": {
    "id": "X1LCMltKdXuU"
   },
   "outputs": [],
   "source": [
    "from sklearn.cluster import KMeans\n",
    "\n",
    "kmeans = KMeans(n_clusters=3).fit(reviews)"
   ]
  },
  {
   "cell_type": "markdown",
   "metadata": {
    "id": "ZXsh342zdXuU"
   },
   "source": [
    "To sanity-check your clustering, create a bar plot with the number of documents per cluster."
   ]
  },
  {
   "cell_type": "code",
   "execution_count": 50,
   "metadata": {
    "colab": {
     "base_uri": "https://localhost:8080/",
     "height": 305
    },
    "id": "CPOiibbmdXuU",
    "outputId": "4d6ec4e4-5901-4cde-80aa-eb8a41589512"
   },
   "outputs": [
    {
     "data": {
      "text/plain": [
       "Text(0, 0.5, 'Count')"
      ]
     },
     "execution_count": 50,
     "metadata": {},
     "output_type": "execute_result"
    },
    {
     "data": {
      "image/png": "[encoded data removed]",
      "text/plain": [
       "<Figure size 432x288 with 1 Axes>"
      ]
     },
     "metadata": {
      "needs_background": "light"
     },
     "output_type": "display_data"
    }
   ],
   "source": [
    "import matplotlib.pyplot as plt\n",
    "\n",
    "pd.DataFrame(kmeans.labels_).value_counts().plot.bar()\n",
    "plt.xlabel('Cluster')\n",
    "plt.ylabel('Count')"
   ]
  },
  {
   "cell_type": "markdown",
   "metadata": {
    "id": "kg9T42R9dXuU"
   },
   "source": [
    "Note that sizes may vary considerable between clusters and among different random seeds."
   ]
  },
  {
   "cell_type": "markdown",
   "metadata": {
    "id": "8ZO8oWbzdXuU"
   },
   "source": [
    "## Problem 2: Summarize clusters"
   ]
  },
  {
   "cell_type": "markdown",
   "metadata": {
    "id": "_Kg6OJ8RdXuV"
   },
   "source": [
    "Once you have a clustering, you can try to see whether it is meaningful. One useful technique in that context is to generate a **summary** for each cluster by extracting the $n$ highest-weighted terms from the centroid of each cluster. Your next task is to implement this approach.\n",
    "\n",
    "**Hint:** You will need to construct an &lsquo;inverted vocabulary&rsquo; that allows you to map from the index of a term back to the original term."
   ]
  },
  {
   "cell_type": "code",
   "execution_count": 69,
   "metadata": {
    "colab": {
     "base_uri": "https://localhost:8080/"
    },
    "id": "y0kXyc6rdXuV",
    "outputId": "6f16b6aa-0680-4930-e443-6487bda0c40f"
   },
   "outputs": [
    {
     "name": "stdout",
     "output_type": "stream",
     "text": [
      "['like' 'product' 'movie' 'great' 'just']\n",
      "['camera' 'lens' 'pictures' 'canon' 'digital']\n",
      "['book' 'read' 'books' 'author' 'reading']\n"
     ]
    }
   ],
   "source": [
    "import numpy as np\n",
    "\n",
    "res = np.argsort(-kmeans.cluster_centers_, axis=1)\n",
    "\n",
    "print(vectorizer.get_feature_names_out()[res[0][:5]])\n",
    "print(vectorizer.get_feature_names_out()[res[1][:5]])\n",
    "print(vectorizer.get_feature_names_out()[res[2][:5]])"
   ]
  },
  {
   "cell_type": "markdown",
   "metadata": {
    "id": "60UWSQchdXuV"
   },
   "source": [
    "Once you have computed the cluster summaries, take a minute to reflect on their quality. Is it clear what the reviews in a given cluster are about? Do the cluster summaries contain any unexpected terms?"
   ]
  },
  {
   "cell_type": "markdown",
   "metadata": {
    "id": "HsPxdmwEp8JW"
   },
   "source": [
    "The clusters are aboute movies, pictures and books.\n",
    "\n",
    "Terms like: like, product, great and just, dont contain unique infomation about the topic."
   ]
  },
  {
   "cell_type": "markdown",
   "metadata": {
    "id": "_p_T-iRqdXuW"
   },
   "source": [
    "## Problem 3: Compare clusterings using the Rand index"
   ]
  },
  {
   "cell_type": "markdown",
   "metadata": {
    "id": "TgAP8Fs5dXuW"
   },
   "source": [
    "In some scenarios, you may have gold-standard class labels available for at least a subset of your documents. In these cases you can compute the **Rand index** of a clustering, and use this measure to compare the quality of different clusterings.\n",
    "\n",
    "To compute the Rand index, we view a clustering as a binary classifier on (unordered) pairs of documents. The classifier predicts &lsquo;positive&rsquo; if and only if the two documents belong to the same cluster. The (non-normalized) Rand index of the clustering is the accuracy of this classifier relative to a reference in which a document pair belongs to the &lsquo;positive&rsquo; class if and only if the two documents in the pair have the same gold-standard class label. You are supposed to implement the procedure yourselves, not import an external function.\n",
    "\n",
    "Compare clusterings with $k \\in \\{1,3,5,7\\}$ clusters. As your evaluation data, use the first 500 documents from the original data set along with their gold-standard categories (from the `category` column)."
   ]
  },
  {
   "cell_type": "code",
   "execution_count": 78,
   "metadata": {
    "colab": {
     "base_uri": "https://localhost:8080/"
    },
    "id": "ljoqb4rsdXuW",
    "outputId": "7d42ff82-5b28-4446-81ed-d1da72d26482"
   },
   "outputs": [
    {
     "name": "stdout",
     "output_type": "stream",
     "text": [
      "0.16626052104208416\n",
      "0.6664689378757515\n",
      "0.7867815631262525\n",
      "0.8261803607214429\n"
     ]
    }
   ],
   "source": [
    "Y = df['category'][:500]\n",
    "X = df['text'][:500]\n",
    "\n",
    "vectorizer = TfidfVectorizer(stop_words='english')\n",
    "reviews = vectorizer.fit_transform(X)\n",
    "\n",
    "for k in [1, 3, 5, 7]:\n",
    "  kmeans = KMeans(n_clusters=k).fit(reviews)\n",
    "\n",
    "  true = 0\n",
    "  count = 0\n",
    "\n",
    "  for i in range(len(kmeans.labels_)):\n",
    "    for j in range(len(kmeans.labels_)):\n",
    "\n",
    "      if i != j:\n",
    "        if kmeans.labels_[i] == kmeans.labels_[j] and Y[i] == Y[j]:\n",
    "          true += 1\n",
    "        elif kmeans.labels_[i] != kmeans.labels_[j] and Y[i] != Y[j]:\n",
    "          true += 1\n",
    "        count += 1\n",
    "  \n",
    "  print(true/count)"
   ]
  },
  {
   "cell_type": "markdown",
   "metadata": {
    "id": "frTZl6BDdXuW"
   },
   "source": [
    "The accuracy incressed as the amount of clusters increased to match the amount of unique categoris in the data.\n"
   ]
  },
  {
   "cell_type": "markdown",
   "metadata": {
    "id": "bF_PQvvKdXuX"
   },
   "source": [
    "## Topic modelling data set"
   ]
  },
  {
   "cell_type": "markdown",
   "metadata": {
    "id": "MRsOK2ENdXuX"
   },
   "source": [
    "The data set for the topic modelling part of this lab is the collection of all [State of the Union](https://en.wikipedia.org/wiki/State_of_the_Union) addresses from the years 1975–2000. These speeches come as a single text file with one sentence per line. The following code cell prints the first 5 lines from the data file:"
   ]
  },
  {
   "cell_type": "code",
   "execution_count": 79,
   "metadata": {
    "colab": {
     "base_uri": "https://localhost:8080/"
    },
    "id": "KQsb6lhsdXuX",
    "outputId": "a7ed8202-d3ce-40a7-c66d-0b103518974e"
   },
   "outputs": [
    {
     "name": "stdout",
     "output_type": "stream",
     "text": [
      "mr speaker mr vice president members of the 94th congress and distinguished guests\n",
      "twenty six years ago a freshman congressman a young fellow with lots of idealism who was out to change the world stood before sam rayburn in the well of the house and solemnly swore to the same oath that all of you took yesterday an unforgettable experience and i congratulate you all\n",
      "two days later that same freshman stood at the back of this great chamber over there someplace as president truman all charged up by his single handed election victory reported as the constitution requires on the state of the union\n",
      "when the bipartisan applause stopped president truman said i am happy to report to this 81st congress that the state of the union is good our nation is better able than ever before to meet the needs of the american people and to give them their fair chance in the pursuit of happiness it is foremost among the nations of the world in the search for peace\n",
      "today that freshman member from michigan stands where mr truman stood and i must say to you that the state of the union is not good\n",
      "millions of americans are out of work\n"
     ]
    }
   ],
   "source": [
    "with open('sotu_1975_2000.txt') as source:\n",
    "    for i, line in enumerate(source):\n",
    "        print(line.rstrip())\n",
    "        if i >= 5:\n",
    "            break"
   ]
  },
  {
   "cell_type": "markdown",
   "metadata": {
    "id": "kPQRuSB5dXuX"
   },
   "source": [
    "Take a few minutes to think about what topics you would expect in this data set."
   ]
  },
  {
   "cell_type": "markdown",
   "metadata": {
    "id": "67SFtcDVdXuX"
   },
   "source": [
    "## Problem 4: Train a topic model"
   ]
  },
  {
   "cell_type": "markdown",
   "metadata": {
    "id": "6EExS0dIdXuY"
   },
   "source": [
    "Your first task on the topic modelling data is to train an LDA model. For this task you will be using [spaCy](https://spacy.io/) and the [gensim](https://radimrehurek.com/gensim/) topic modelling library.\n",
    "\n",
    "Start by preprocessing the data using spaCy. Given that the data set for this problem is rather small, you do not have to exclude any components from the standard pipeline. Filter out stop words, non-alphabetic tokens, and tokens less than 3 characters in length. Store the documents as a nested list where the first level of nesting corresponds to the sentences and the second level corresponds to the tokens in each sentence."
   ]
  },
  {
   "cell_type": "code",
   "execution_count": 10,
   "metadata": {
    "id": "8nxzDN9bdXuY"
   },
   "outputs": [],
   "source": [
    "import spacy\n",
    "\n",
    "nlp = spacy.load(\"en_core_web_sm\")\n",
    "\n",
    "\n",
    "with open('sotu_1975_2000.txt') as source:\n",
    "  documents = []\n",
    "  for line in source:\n",
    "    documents += [[w.text for w in nlp(line) if not w.is_stop and w.is_alpha and len(w) >= 3]]"
   ]
  },
  {
   "cell_type": "markdown",
   "metadata": {
    "id": "ho_e3_IedXuY"
   },
   "source": [
    "Test your preprocessing by running the following cell:"
   ]
  },
  {
   "cell_type": "code",
   "execution_count": 2,
   "metadata": {
    "colab": {
     "base_uri": "https://localhost:8080/",
     "height": 35
    },
    "id": "9mmJTWa9dXuY",
    "outputId": "40842747-fbdc-40f0-818a-75a7a6fa56ff"
   },
   "outputs": [
    {
     "data": {
      "application/vnd.google.colaboratory.intrinsic+json": {
       "type": "string"
      },
      "text/plain": [
       "'reduce oil imports million barrels day end year million barrels day end'"
      ]
     },
     "execution_count": 2,
     "metadata": {},
     "output_type": "execute_result"
    }
   ],
   "source": [
    "' '.join(documents[42])"
   ]
  },
  {
   "cell_type": "markdown",
   "metadata": {
    "id": "99tiFEsBdXuY"
   },
   "source": [
    "You should get the following output:"
   ]
  },
  {
   "cell_type": "raw",
   "metadata": {
    "id": "5Bm0EeDgdXuZ"
   },
   "source": [
    "'reduce oil imports million barrels day end year million barrels day end'"
   ]
  },
  {
   "cell_type": "markdown",
   "metadata": {
    "id": "NY48ob8wdXuZ"
   },
   "source": [
    "Once you have the list of documents, skim the section [Pre-process and vectorize the documents](https://radimrehurek.com/gensim/auto_examples/tutorials/run_lda.html#pre-process-and-vectorize-the-documents) of the gensim documentation to learn how to create the dictionary and the vectorized corpus representation required by gensim. (Note that you cannot use the standard scikit-learn pipeline in this case.) Then, write code to train an [LdaModel](https://radimrehurek.com/gensim/models/ldamodel.html) for $k=10$ topics, and using default values for all other parameters."
   ]
  },
  {
   "cell_type": "code",
   "execution_count": 11,
   "metadata": {
    "id": "FyG_HmsWdXuZ"
   },
   "outputs": [],
   "source": [
    "from gensim.corpora import Dictionary\n",
    "from gensim.models.ldamodel import LdaModel\n",
    "\n",
    "dictionary = Dictionary(documents)\n",
    "\n",
    "corpus = [dictionary.doc2bow(doc) for doc in documents]\n",
    "\n",
    "model = LdaModel(corpus, num_topics=10, id2word=dictionary)"
   ]
  },
  {
   "cell_type": "markdown",
   "metadata": {
    "id": "W-d7H41_dXuZ"
   },
   "source": [
    "Once you have a trained model, run the following cell to print the topics:"
   ]
  },
  {
   "cell_type": "code",
   "execution_count": 12,
   "metadata": {
    "colab": {
     "base_uri": "https://localhost:8080/"
    },
    "id": "jMpEdPCtdXuZ",
    "outputId": "5835eb29-88dc-4934-9178-26c268407a2a"
   },
   "outputs": [
    {
     "data": {
      "text/plain": [
       "[(0,\n",
       "  '0.013*\"tax\" + 0.010*\"crime\" + 0.008*\"pass\" + 0.008*\"bill\" + 0.008*\"cuts\" + 0.007*\"new\" + 0.007*\"social\" + 0.005*\"environment\" + 0.005*\"cut\" + 0.005*\"ask\"'),\n",
       " (1,\n",
       "  '0.013*\"thank\" + 0.012*\"america\" + 0.011*\"new\" + 0.009*\"people\" + 0.008*\"world\" + 0.006*\"help\" + 0.006*\"americans\" + 0.006*\"way\" + 0.006*\"like\" + 0.006*\"teen\"'),\n",
       " (2,\n",
       "  '0.013*\"work\" + 0.013*\"people\" + 0.012*\"new\" + 0.011*\"years\" + 0.010*\"government\" + 0.009*\"care\" + 0.009*\"families\" + 0.009*\"health\" + 0.009*\"congress\" + 0.008*\"children\"'),\n",
       " (3,\n",
       "  '0.011*\"people\" + 0.010*\"year\" + 0.010*\"americans\" + 0.006*\"social\" + 0.006*\"america\" + 0.006*\"congress\" + 0.006*\"let\" + 0.006*\"know\" + 0.006*\"challenge\" + 0.005*\"american\"'),\n",
       " (4,\n",
       "  '0.012*\"america\" + 0.012*\"world\" + 0.010*\"children\" + 0.008*\"people\" + 0.007*\"year\" + 0.007*\"new\" + 0.006*\"weapons\" + 0.006*\"security\" + 0.006*\"nuclear\" + 0.005*\"peace\"'),\n",
       " (5,\n",
       "  '0.008*\"people\" + 0.008*\"budget\" + 0.008*\"year\" + 0.008*\"american\" + 0.007*\"work\" + 0.007*\"americans\" + 0.006*\"know\" + 0.006*\"federal\" + 0.006*\"national\" + 0.006*\"care\"'),\n",
       " (6,\n",
       "  '0.010*\"america\" + 0.009*\"year\" + 0.007*\"world\" + 0.006*\"years\" + 0.006*\"people\" + 0.006*\"nation\" + 0.006*\"tonight\" + 0.006*\"best\" + 0.005*\"new\" + 0.005*\"century\"'),\n",
       " (7,\n",
       "  '0.014*\"america\" + 0.010*\"time\" + 0.008*\"world\" + 0.007*\"community\" + 0.007*\"century\" + 0.007*\"years\" + 0.006*\"americans\" + 0.006*\"good\" + 0.006*\"grade\" + 0.005*\"challenge\"'),\n",
       " (8,\n",
       "  '0.016*\"america\" + 0.009*\"children\" + 0.008*\"new\" + 0.008*\"people\" + 0.007*\"congress\" + 0.007*\"american\" + 0.006*\"let\" + 0.006*\"americans\" + 0.006*\"year\" + 0.006*\"work\"'),\n",
       " (9,\n",
       "  '0.015*\"new\" + 0.013*\"years\" + 0.010*\"america\" + 0.009*\"schools\" + 0.009*\"people\" + 0.008*\"education\" + 0.008*\"congress\" + 0.008*\"help\" + 0.007*\"let\" + 0.007*\"year\"')]"
      ]
     },
     "execution_count": 12,
     "metadata": {},
     "output_type": "execute_result"
    }
   ],
   "source": [
    "model.print_topics()"
   ]
  },
  {
   "cell_type": "markdown",
   "metadata": {
    "id": "YuxiQEZFdXuZ"
   },
   "source": [
    "Inspect the topics. Can you &lsquo;label&rsquo; each topic with a short description of what it is about? Do the topics match your expectations?"
   ]
  },
  {
   "cell_type": "markdown",
   "metadata": {
    "id": "TTCSp3gkX_o7"
   },
   "source": [
    "* Cut taxes\n",
    "* ?\n",
    "* healthcare\n",
    "* ?\n",
    "* nuclear weapons\n",
    "* ?\n",
    "* ?\n",
    "* ?\n",
    "* ?\n",
    "* Education"
   ]
  },
  {
   "cell_type": "markdown",
   "metadata": {
    "id": "gOL8M5kCdXuZ"
   },
   "source": [
    "## Problem 5: Monitor a topic model for convergence"
   ]
  },
  {
   "cell_type": "markdown",
   "metadata": {
    "id": "z_rmMKZLdXuZ"
   },
   "source": [
    "When learning an LDA model, it is important to make sure that the training algorithm has converged to a stable posterior distribution. One way to do so is to plot, after each training epochs (or &lsquo;pass&rsquo;, in gensim parlance) the log likelihood of the training data under the posterior. Your last task in this lab is to create such a plot and, based on this, to suggest an appropriate number of epochs.\n",
    "\n",
    "To collect information about the posterior likelihood after each pass, we need to enable the logging facilities of gensim. Once this is done, gensim will add various diagnostics to a log file `gensim.log`."
   ]
  },
  {
   "cell_type": "code",
   "execution_count": 4,
   "metadata": {
    "id": "3lyBiM4VdXua"
   },
   "outputs": [],
   "source": [
    "import logging\n",
    "\n",
    "logging.basicConfig(filename='gensim.log', format='%(asctime)s:%(levelname)s:%(message)s', level=logging.INFO)"
   ]
  },
  {
   "cell_type": "markdown",
   "metadata": {
    "id": "4CEQcWKqdXua"
   },
   "source": [
    "The following function will parse the generated logfile and return the list of log likelihoods."
   ]
  },
  {
   "cell_type": "code",
   "execution_count": 5,
   "metadata": {
    "id": "wyDa-oTJdXua"
   },
   "outputs": [],
   "source": [
    "import re\n",
    "\n",
    "def parse_logfile():\n",
    "    matcher = re.compile('(-*\\d+\\.\\d+) per-word .* (\\d+\\.\\d+) perplexity')\n",
    "    likelihoods = []\n",
    "    with open('gensim.log') as source:\n",
    "        for line in source:\n",
    "            match = matcher.search(line)\n",
    "            if match:\n",
    "                likelihoods.append(float(match.group(1)))\n",
    "    return likelihoods"
   ]
  },
  {
   "cell_type": "markdown",
   "metadata": {
    "id": "LGgflAB5dXua"
   },
   "source": [
    "Your task now is to re-train your LDA model for 50&nbsp;passes, retrieve the list of log likelihoods, and create a plot from this data."
   ]
  },
  {
   "cell_type": "code",
   "execution_count": 13,
   "metadata": {
    "colab": {
     "base_uri": "https://localhost:8080/"
    },
    "id": "S_rK0vAZdXua",
    "outputId": "70ac5887-ae4e-4252-b144-ac5088f4bc73"
   },
   "outputs": [
    {
     "name": "stdout",
     "output_type": "stream",
     "text": [
      "[-9.71, -9.719, -9.028, -8.67, -8.358, -8.208, -8.145, -8.113, -8.092, -8.076, -8.064, -8.054, -8.046, -8.04, -8.034, -8.029, -8.025, -8.021, -8.018, -8.015, -8.012, -8.009, -8.007, -8.005, -8.003, -8.001, -7.999, -7.997, -7.996, -7.994, -7.992, -7.991, -7.99, -7.989, -7.987, -7.986, -7.985, -7.984, -7.983, -7.982, -7.981, -7.981, -7.98, -7.979, -7.979, -7.978, -7.977, -7.977, -7.976, -7.975, -7.975]\n"
     ]
    }
   ],
   "source": [
    "from gensim.models.callbacks import PerplexityMetric\n",
    "\n",
    "perplexity_logger = PerplexityMetric(corpus=corpus)\n",
    "model = LdaModel(corpus, num_topics=10, id2word=dictionary, passes=50, callbacks=[perplexity_logger])\n",
    "print(parse_logfile())"
   ]
  },
  {
   "cell_type": "code",
   "execution_count": 14,
   "metadata": {},
   "outputs": [
    {
     "data": {
      "text/plain": [
       "[<matplotlib.lines.Line2D at 0x7ff1d2552220>]"
      ]
     },
     "execution_count": 14,
     "metadata": {},
     "output_type": "execute_result"
    },
    {
     "data": {
      "image/png": "[encoded data removed]",
      "text/plain": [
       "<Figure size 640x480 with 1 Axes>"
      ]
     },
     "metadata": {},
     "output_type": "display_data"
    }
   ],
   "source": [
    "import matplotlib.pyplot as plt\n",
    "\n",
    "plt.plot(parse_logfile())"
   ]
  },
  {
   "cell_type": "markdown",
   "metadata": {
    "id": "WG07ivb5dXua"
   },
   "source": [
    "How do you interpret your plot? Based on the plot, what would be a reasonable choice for the number of passes? Retrain your LDA model with that number and re-inspect the topics it finds. Do you consider the new topics to be &lsquo;better&rsquo; than the ones that you got from the 1-pass model in Problem&nbsp;4?"
   ]
  },
  {
   "cell_type": "code",
   "execution_count": 15,
   "metadata": {},
   "outputs": [
    {
     "data": {
      "text/plain": [
       "[(0,\n",
       "  '0.013*\"million\" + 0.010*\"new\" + 0.010*\"jobs\" + 0.008*\"energy\" + 0.006*\"gun\" + 0.006*\"people\" + 0.006*\"wage\" + 0.005*\"american\" + 0.005*\"laws\" + 0.005*\"covenant\"'),\n",
       " (1,\n",
       "  '0.018*\"crime\" + 0.016*\"years\" + 0.011*\"college\" + 0.011*\"communities\" + 0.011*\"community\" + 0.010*\"help\" + 0.009*\"new\" + 0.008*\"rate\" + 0.007*\"percent\" + 0.007*\"year\"'),\n",
       " (2,\n",
       "  '0.019*\"year\" + 0.016*\"tax\" + 0.015*\"budget\" + 0.012*\"health\" + 0.010*\"years\" + 0.009*\"care\" + 0.008*\"congress\" + 0.008*\"cut\" + 0.007*\"deficit\" + 0.007*\"spending\"'),\n",
       " (3,\n",
       "  '0.015*\"work\" + 0.014*\"people\" + 0.014*\"new\" + 0.011*\"children\" + 0.010*\"america\" + 0.009*\"year\" + 0.009*\"americans\" + 0.008*\"need\" + 0.008*\"american\" + 0.007*\"help\"'),\n",
       " (4,\n",
       "  '0.014*\"americans\" + 0.012*\"government\" + 0.011*\"war\" + 0.010*\"congress\" + 0.010*\"fellow\" + 0.009*\"president\" + 0.008*\"citizens\" + 0.007*\"world\" + 0.006*\"america\" + 0.006*\"people\"'),\n",
       " (5,\n",
       "  '0.015*\"energy\" + 0.012*\"policy\" + 0.011*\"government\" + 0.011*\"federal\" + 0.009*\"administration\" + 0.009*\"new\" + 0.008*\"education\" + 0.007*\"foreign\" + 0.007*\"national\" + 0.007*\"nation\"'),\n",
       " (6,\n",
       "  '0.018*\"security\" + 0.014*\"soviet\" + 0.010*\"states\" + 0.010*\"forces\" + 0.010*\"defense\" + 0.010*\"world\" + 0.009*\"united\" + 0.009*\"military\" + 0.008*\"union\" + 0.006*\"strategic\"'),\n",
       " (7,\n",
       "  '0.011*\"let\" + 0.008*\"government\" + 0.007*\"federal\" + 0.006*\"americans\" + 0.005*\"states\" + 0.005*\"security\" + 0.004*\"coal\" + 0.004*\"social\" + 0.004*\"right\" + 0.004*\"time\"'),\n",
       " (8,\n",
       "  '0.013*\"tonight\" + 0.013*\"new\" + 0.011*\"years\" + 0.011*\"nation\" + 0.008*\"best\" + 0.007*\"schools\" + 0.007*\"time\" + 0.007*\"like\" + 0.007*\"said\" + 0.006*\"american\"'),\n",
       " (9,\n",
       "  '0.026*\"america\" + 0.018*\"people\" + 0.018*\"world\" + 0.010*\"peace\" + 0.010*\"freedom\" + 0.010*\"know\" + 0.009*\"american\" + 0.009*\"let\" + 0.007*\"country\" + 0.007*\"years\"')]"
      ]
     },
     "execution_count": 15,
     "metadata": {},
     "output_type": "execute_result"
    }
   ],
   "source": [
    "# Looking at the plot, we belive 10 passes to be a resonable amount\n",
    "model = LdaModel(corpus, num_topics=10, id2word=dictionary, passes=10)\n",
    "model.print_topics()"
   ]
  },
  {
   "cell_type": "markdown",
   "metadata": {},
   "source": [
    "The new topics appear clearer now, instead of words such as \"america\" or \"people\" being the top words for most documents, more unique words such as \"crime\", \"energy\" and \"tax\" appear higher."
   ]
  },
  {
   "cell_type": "markdown",
   "metadata": {
    "id": "YgNlOlYzdXua"
   },
   "source": [
    "## Reflection questions"
   ]
  },
  {
   "cell_type": "markdown",
   "metadata": {
    "id": "gopTW2nNdXua"
   },
   "source": [
    "The following reflection questions will help you prepare for the diagnostic test. Answer each of them in the form of a short text and put your answers in the cell below. You will get feedback on your answers from your lab assistant."
   ]
  },
  {
   "cell_type": "markdown",
   "metadata": {
    "id": "TTLV_QDmdXua"
   },
   "source": [
    "**RQ 3.1:** Based on your experiments in Problem&nbsp;2 and Problem&nbsp;3, what is the relation between the quality of a clustering and the number of clusters? What happens when the number of clusters is too low, or too high? For this particular data set, what would a &lsquo;good&rsquo; number of clusters be?\n",
    "\n",
    "**RQ 3.2:** Explain why it is important to monitor an LDA model for convergence and not simply use, say, 1000&nbsp;passes. How is the log likelihood used in this context? Were the topics from the multi-pass model &lsquo;better&rsquo; than the topics from the 1-pass model?\n",
    "\n",
    "**RQ 3.3:** What are the differences between $k$-means and LDA? When would you use one, when the other?"
   ]
  },
  {
   "cell_type": "markdown",
   "metadata": {
    "id": "KZ5zfCEXdXua"
   },
   "source": [
    "**3.1**: From the experiments we can see that the closer the number of clusters are to the number of categories in the data set, the better the quality of the clustering.\n",
    "\n",
    "With too few clusters, the quality suffered significantly. With too many clusters the quality will also drop but much less severly than with too few clusters.\n",
    "\n",
    "For this data set, a good number of clusters would be 6, since that is the number of categories in the data set.\n",
    "\n",
    "**3.2**: It is important to monitor convergence to avoid the model overfitting the data.\n",
    "\n",
    "Log likelihood is the log probability that the parametes are correct given the data (p(w|z)). In this context, the log likelihood is used to represent convergence.\n",
    "\n",
    "The topics in the multi-pass model contained more unique/specific terms than the 1-pass model, which gave \"better\" topics in the sense that we had a better idea on what the content of the documents could have been about.\n",
    "\n",
    "**3.3**: k-means works better when the catogries of the documents are clear-cut. LDA works better when the document cannot be easily placed in just one single category (ex. a speech that disscusses both economy and energy)."
   ]
  },
  {
   "cell_type": "markdown",
   "metadata": {
    "id": "7rJBr3O2dXub"
   },
   "source": [
    "**Congratulations on finishing L3! 👍**"
   ]
  }
 ],
 "metadata": {
  "colab": {
   "provenance": []
  },
  "kernelspec": {
   "display_name": "Python 3 (ipykernel)",
   "language": "python",
   "name": "python3"
  },
  "language_info": {
   "codemirror_mode": {
    "name": "ipython",
    "version": 3
   },
   "file_extension": ".py",
   "mimetype": "text/x-python",
   "name": "python",
   "nbconvert_exporter": "python",
   "pygments_lexer": "ipython3",
   "version": "3.8.10"
  }
 },
 "nbformat": 4,
 "nbformat_minor": 1
}
